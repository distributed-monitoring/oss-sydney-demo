{
 "cells": [
  {
   "cell_type": "code",
   "execution_count": null,
   "metadata": {
    "collapsed": true
   },
   "outputs": [],
   "source": [
    "import datetime\n",
    "import time\n",
    "import redis\n",
    "import numpy as np\n",
    "import matplotlib\n",
    "matplotlib.use('Agg')\n",
    "import matplotlib.pyplot as plt\n",
    "import matplotlib.animation as animation\n",
    "from sklearn.decomposition import PCA\n",
    "from sklearn.cluster import KMeans"
   ]
  },
  {
   "cell_type": "code",
   "execution_count": null,
   "metadata": {
    "collapsed": true
   },
   "outputs": [],
   "source": [
    "%matplotlib nbagg\n",
    "HOSTNAME = \"devstack02\"\n",
    "r = redis.StrictRedis(host=HOSTNAME,port=6379,db=0)\n"
   ]
  },
  {
   "cell_type": "code",
   "execution_count": null,
   "metadata": {},
   "outputs": [],
   "source": [
    "unix_now = int(time.mktime(datetime.datetime.now().timetuple()))\n",
    "\n",
    "def get_keys(conn):\n",
    "    return conn.keys()\n",
    "\n",
    "def get_range(conn,key,start,end):\n",
    "    return conn.zrange(key,start,end)\n",
    "\n",
    "def get_rangebyscore(conn,key,start,end):\n",
    "    return conn.zrangebyscore(key,start,end)\n",
    "\n",
    "def load(time, num):\n",
    "    list_array = np.empty((0, num))\n",
    "    all_keys = get_keys(r)\n",
    "    for key in all_keys:\n",
    "        if HOSTNAME in key:\n",
    "            if 'cpu' in key:\n",
    "                key_array = []\n",
    "                n = np.array(get_rangebyscore(r, key, time - num, time))\n",
    "\n",
    "                for i,each_array in enumerate(n):\n",
    "                    each_array = np.array(each_array.split(\":\"))\n",
    "                    each_array = np.delete(each_array, 0)\n",
    "                    each_array = each_array.astype(float)\n",
    "                    if each_array.size >1:\n",
    "                        if i == 0:\n",
    "                            tmp_array = np.empty((0,each_array.size))\n",
    "                        tmp_array = np.vstack((tmp_array,each_array))\n",
    "                    else:\n",
    "                        key_array = np.append(key_array,each_array)\n",
    "                if each_array.size > 1:\n",
    "                    list_array = np.vstack((list_array,tmp_array.T))\n",
    "                else:\n",
    "                    list_array = np.vstack((list_array,key_array))\n",
    "                    \n",
    "    return list_array.T\n",
    "\n",
    "def diff_data(time, num):\n",
    "    list_array = np.empty((0, num))\n",
    "    all_keys = get_keys(r)\n",
    "    for key in all_keys:\n",
    "        if HOSTNAME in key:\n",
    "                   \n",
    "            if 'cpu' in key:\n",
    "                key_array = []\n",
    "                n = np.array(get_rangebyscore(r, key, time - num, time))\n",
    "\n",
    "                for i,each_array in enumerate(n):\n",
    "                    each_array = np.array(each_array.split(\":\"))\n",
    "                    each_array = np.delete(each_array, 0)\n",
    "                    each_array = each_array.astype(float)\n",
    "                    if each_array.size >1:\n",
    "                        if i == 0:\n",
    "                            tmp_array = np.empty((0,each_array.size))\n",
    "                        tmp_array = np.vstack((tmp_array,each_array))\n",
    "                    else:\n",
    "                        key_array = np.append(key_array,each_array)\n",
    "                if each_array.size > 1:\n",
    "                    list_array = np.vstack((list_array,tmp_array.T))\n",
    "                else:\n",
    "                    list_array = np.vstack((list_array,key_array))\n",
    "    list_array = np.diff(list_array)\n",
    "    \n",
    "    return list_array.T\n",
    "\n",
    "\n",
    "def pca_fit(pca_list):\n",
    "    load_data_nparray = np.array(pca_list)\n",
    "    pca = PCA(n_components=2)\n",
    "    pca.fit(load_data_nparray)\n",
    "    return pca\n",
    "\n",
    "def pca_transform(fit, pca_list):\n",
    "    transformed = fit.transform(pca_list)\n",
    "    #print transformed\n",
    "    return transformed\n",
    "\n",
    "def kmeans_fit(data):\n",
    "    fit = KMeans(n_clusters=3).fit(data)\n",
    "    return fit\n",
    "\n",
    "def kmeans_predict(fit, data):\n",
    "    prediction = fit.predict(data)\n",
    "    return prediction\n",
    "\n",
    "def predict_now(fit, data):\n",
    "    now = fit.predict(data)\n",
    "    return now\n",
    "\n",
    "data = diff_data(unix_now,7200)\n",
    "now_data = diff_data(unix_now,5)\n",
    "\n",
    "pca_fit = pca_fit(data)\n",
    "\n",
    "data = pca_transform(pca_fit, data)\n",
    "#print data\n",
    "now_data = pca_transform(pca_fit,now_data)\n",
    "#print now_data\n",
    "fit = kmeans_fit(data)\n",
    "cluster = kmeans_predict(fit,data)\n",
    "#print fit.cluster_centers_[0]\n",
    "graph_size=1000\n",
    "plt.xticks(np.arange(-graph_size,graph_size,100))\n",
    "plt.yticks(np.arange(-graph_size,graph_size,100))\n",
    "plt.scatter(data[:,0],data[:,1], c=cluster)\n",
    "plt.scatter(now_data[:,0],now_data[:,1],color='red')\n",
    "print unix_now\n",
    "plt.show()"
   ]
  },
  {
   "cell_type": "code",
   "execution_count": null,
   "metadata": {
    "scrolled": false
   },
   "outputs": [],
   "source": [
    "fig = plt.figure()\n",
    "\n",
    "graph_size=1000\n",
    "plt.xticks(np.arange(-graph_size,graph_size,100))\n",
    "plt.yticks(np.arange(-graph_size,graph_size,100))\n",
    "\n",
    "#ims = []\n",
    "def update(i, fig, im):\n",
    "    unix_now = int(time.mktime(datetime.datetime.now().timetuple()))\n",
    "    now_data = diff_data(unix_now,6)\n",
    "    now_data = pca_transform(pca_fit,now_data)\n",
    "\n",
    "    if len(im) > 0:\n",
    "        im[0].remove()\n",
    "        im.pop()\n",
    "        \n",
    "    im.append(plt.scatter(now_data[:,0],now_data[:,1],color='red', marker=\"o\"))\n",
    "\n",
    "im=[]\n",
    "plt.title(\"K-means Cluster\")\n",
    "plt.scatter(data[:,0],data[:,1], c=cluster, marker=\"o\", alpha=0.1)\n",
    "ani = animation.FuncAnimation(fig, update, fargs = (fig,im), interval=1000)\n",
    "#ani.save('/tmp/k-means.mp4')\n",
    "plt.show()"
   ]
  },
  {
   "cell_type": "code",
   "execution_count": null,
   "metadata": {
    "collapsed": true
   },
   "outputs": [],
   "source": [
    "\n"
   ]
  },
  {
   "cell_type": "code",
   "execution_count": null,
   "metadata": {
    "collapsed": true
   },
   "outputs": [],
   "source": []
  }
 ],
 "metadata": {
  "kernelspec": {
   "display_name": "Python 2",
   "language": "python",
   "name": "python2"
  },
  "language_info": {
   "codemirror_mode": {
    "name": "ipython",
    "version": 2
   },
   "file_extension": ".py",
   "mimetype": "text/x-python",
   "name": "python",
   "nbconvert_exporter": "python",
   "pygments_lexer": "ipython2",
   "version": "2.7.12"
  }
 },
 "nbformat": 4,
 "nbformat_minor": 2
}
